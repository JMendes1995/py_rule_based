{
 "cells": [
  {
   "cell_type": "markdown",
   "metadata": {
    "slideshow": {
     "slide_type": "skip"
    }
   },
   "source": [
    "<b><center><font size=\"4\">Rule-based Temporal Tagger</font></center></b>\n",
    "<hr>"
   ]
  },
  {
   "cell_type": "markdown",
   "metadata": {
    "slideshow": {
     "slide_type": "skip"
    }
   },
   "source": [
    "Notebook Developed by: [Ricardo Campos](http://www.ccc.ipt.pt/~ricardo)\n",
    "\n",
    "\n",
    "\n",
    "<hr>"
   ]
  },
  {
   "cell_type": "markdown",
   "metadata": {
    "toc": true
   },
   "source": [
    "<h1>Table of Contents<span class=\"tocSkip\"></span></h1>\n",
    "<div class=\"toc\"><ul class=\"toc-item\"><li><span><a href=\"#Rule-based-Model\" data-toc-modified-id=\"Rule-based-Model-1\"><span class=\"toc-item-num\">1&nbsp;&nbsp;</span>Rule-based Model</a></span><ul class=\"toc-item\"><li><span><a href=\"#What-is-py_rule_based?\" data-toc-modified-id=\"What-is-py_rule_based?-1.1\"><span class=\"toc-item-num\">1.1&nbsp;&nbsp;</span>What is py_rule_based?</a></span></li><li><span><a href=\"#Who-developed-this-package?\" data-toc-modified-id=\"Who-developed-this-package?-1.2\"><span class=\"toc-item-num\">1.2&nbsp;&nbsp;</span>Who developed this package?</a></span></li><li><span><a href=\"#Where-can-I-find-py_rule_based?\" data-toc-modified-id=\"Where-can-I-find-py_rule_based?-1.3\"><span class=\"toc-item-num\">1.3&nbsp;&nbsp;</span>Where can I find py_rule_based?</a></span></li></ul></li><li><span><a href=\"#Package\" data-toc-modified-id=\"Package-2\"><span class=\"toc-item-num\">2&nbsp;&nbsp;</span>Package</a></span><ul class=\"toc-item\"><li><span><a href=\"#Installation\" data-toc-modified-id=\"Installation-2.1\"><span class=\"toc-item-num\">2.1&nbsp;&nbsp;</span>Installation</a></span></li><li><span><a href=\"#Usage-(Python)\" data-toc-modified-id=\"Usage-(Python)-2.2\"><span class=\"toc-item-num\">2.2&nbsp;&nbsp;</span>Usage (Python)</a></span><ul class=\"toc-item\"><li><span><a href=\"#Default-Parameters\" data-toc-modified-id=\"Default-Parameters-2.2.1\"><span class=\"toc-item-num\">2.2.1&nbsp;&nbsp;</span>Default Parameters</a></span></li><li><span><a href=\"#Optional-Parameters\" data-toc-modified-id=\"Optional-Parameters-2.2.2\"><span class=\"toc-item-num\">2.2.2&nbsp;&nbsp;</span>Optional Parameters</a></span></li></ul></li><li><span><a href=\"#Usage-(Command-Line)\" data-toc-modified-id=\"Usage-(Command-Line)-2.3\"><span class=\"toc-item-num\">2.3&nbsp;&nbsp;</span>Usage (Command Line)</a></span></li></ul></li><li><span><a href=\"#Related-Projects\" data-toc-modified-id=\"Related-Projects-3\"><span class=\"toc-item-num\">3&nbsp;&nbsp;</span>Related Projects</a></span></li></ul></div>"
   ]
  },
  {
   "cell_type": "markdown",
   "metadata": {},
   "source": [
    "## Rule-based Model"
   ]
  },
  {
   "cell_type": "markdown",
   "metadata": {},
   "source": [
    "### What is py_rule_based?"
   ]
  },
  {
   "cell_type": "markdown",
   "metadata": {},
   "source": [
    "[py_rule_based](https://github.com/JMendes1995/py_rule_based) is a self-defined rule-based approach in regex which is able to detect the following patterns:\n",
    "- yyyy(./-)mm(./-)dd\n",
    "- dd(./-)mm(./-)yyyy\n",
    "- yyyy(./-)yyyy\n",
    "- yyyys\n",
    "- yyyy"
   ]
  },
  {
   "cell_type": "markdown",
   "metadata": {},
   "source": [
    "### Who developed this package?"
   ]
  },
  {
   "cell_type": "markdown",
   "metadata": {},
   "source": [
    "It has been developed by [Jorge Mendes](https://github.com/JMendes1995) under the supervision of Professor [Ricardo Campos](http://www.ccc.ipt.pt/~ricardo/) in the scope of the Final Project of the Computer Science degree at the [Polytechnic Institute of Tomar](http://www.ipt.pt), Portugal."
   ]
  },
  {
   "cell_type": "markdown",
   "metadata": {},
   "source": [
    "### Where can I find py_rule_based?"
   ]
  },
  {
   "cell_type": "markdown",
   "metadata": {},
   "source": [
    "https://github.com/JMendes1995/py_rule_based"
   ]
  },
  {
   "cell_type": "markdown",
   "metadata": {},
   "source": [
    "## Package"
   ]
  },
  {
   "cell_type": "markdown",
   "metadata": {},
   "source": [
    "### Installation"
   ]
  },
  {
   "cell_type": "markdown",
   "metadata": {},
   "source": [
    "To install it run the following code:"
   ]
  },
  {
   "cell_type": "code",
   "execution_count": null,
   "metadata": {},
   "outputs": [],
   "source": [
    "!pip install git+https://github.com/JMendes1995/py_rule_based.git"
   ]
  },
  {
   "cell_type": "markdown",
   "metadata": {},
   "source": [
    "### Usage (Python)"
   ]
  },
  {
   "cell_type": "code",
   "execution_count": null,
   "metadata": {},
   "outputs": [],
   "source": [
    "from py_rule_based import py_rule_based\n",
    "\n",
    "text = \"The start of the war in Europe is generally held to be 1 September 1939,\"\\\n",
    "        \"beginning with the German invasion of Poland; the United Kingdom and France declared war on Germany two days later.\"\\\n",
    "        \"The dates for the beginning of war in the Pacific include the start of the Second Sino-Japanese War on 7 July 1937,\"\\\n",
    "        \"or even the Japanese invasion of Manchuria on 19-09-1931.\""
   ]
  },
  {
   "cell_type": "markdown",
   "metadata": {},
   "source": [
    "#### Default Parameters"
   ]
  },
  {
   "cell_type": "markdown",
   "metadata": {},
   "source": [
    "Default date_granularity is \"full\" (highest possible granularity detected will be retrieved), begin_date is 0 and end_date is 2100 which means that all the dates within this range will be retrieved. The following code shows two different ways of obtaining the results:"
   ]
  },
  {
   "cell_type": "code",
   "execution_count": null,
   "metadata": {},
   "outputs": [],
   "source": [
    "results = py_rule_based(text)\n",
    "#results = py_rule_based(text, date_granularity='full', begin_date=2000, end_date=2100)"
   ]
  },
  {
   "cell_type": "markdown",
   "metadata": {},
   "source": [
    "** Output **"
   ]
  },
  {
   "cell_type": "markdown",
   "metadata": {},
   "source": [
    "The output will be a list of 3 elements or an empty list [] if no temporal expression is found in the text. The three elements are:\n",
    "- a list of tuples with two positions (e.g., ('2011-01-02', '2011-01-02')). The first one is the detected temporal expression normalized by py_rule_based model. The second is the temporal expression as it was found in the text; The first may differ from the second when the date_granularity is different than \"full\";\n",
    "- a normalized version of the text, where each temporal expression is tagged with d;\n",
    "- the execution time of the algorithm, divided into rule_based_processing (i.e., the time spent by the rule_based model in extracting temporal expressions) and text_normalization (the time spent by the program in labelling the temporal expressions found in the text with a tag d)."
   ]
  },
  {
   "cell_type": "code",
   "execution_count": null,
   "metadata": {},
   "outputs": [],
   "source": [
    "TempExpressions = results[0]\n",
    "TempExpressions"
   ]
  },
  {
   "cell_type": "code",
   "execution_count": null,
   "metadata": {},
   "outputs": [],
   "source": [
    "TextNormalized = results[1]\n",
    "TextNormalized"
   ]
  },
  {
   "cell_type": "code",
   "execution_count": null,
   "metadata": {},
   "outputs": [],
   "source": [
    "ExecutionTime = results[3]\n",
    "ExecutionTime"
   ]
  },
  {
   "cell_type": "markdown",
   "metadata": {},
   "source": [
    "#### Optional Parameters"
   ]
  },
  {
   "cell_type": "markdown",
   "metadata": {},
   "source": [
    "Besides running py_rule_based with the default parameters, users can also specify some advanced options. These are:\n",
    "- **date granularity**: \"full\" (highest possible granularity detected will be retrieved); \"year\" (YYYY will be retrieved); \"month\" (YYYY-MM will be retrieved); \"day\" (YYYY-MM-DD will be retrieved);\n",
    "- **begin_date**: an integer (default is 0) that defines the lowest date beginning of the time period to consider;\n",
    "- **end_date**: an integer (default is 2100) that defines the end of the time period to consider."
   ]
  },
  {
   "cell_type": "code",
   "execution_count": null,
   "metadata": {},
   "outputs": [],
   "source": [
    "result = py_rule_based(text, date_granularity='year', begin_date=1930, end_date=1935)"
   ]
  },
  {
   "cell_type": "markdown",
   "metadata": {},
   "source": [
    "** Output **"
   ]
  },
  {
   "cell_type": "markdown",
   "metadata": {},
   "source": [
    "The output follows the same patterns as described above."
   ]
  },
  {
   "cell_type": "code",
   "execution_count": null,
   "metadata": {},
   "outputs": [],
   "source": [
    "TempExpressions = results[0]\n",
    "TempExpressions"
   ]
  },
  {
   "cell_type": "code",
   "execution_count": null,
   "metadata": {},
   "outputs": [],
   "source": [
    "TextNormalized = results[1]\n",
    "TextNormalized"
   ]
  },
  {
   "cell_type": "code",
   "execution_count": null,
   "metadata": {},
   "outputs": [],
   "source": [
    "ExecutionTime = results[3]\n",
    "ExecutionTime"
   ]
  },
  {
   "cell_type": "markdown",
   "metadata": {},
   "source": [
    "### Usage (Command Line)"
   ]
  },
  {
   "cell_type": "markdown",
   "metadata": {},
   "source": [
    "** Default Parameters **"
   ]
  },
  {
   "cell_type": "markdown",
   "metadata": {},
   "source": [
    "```\n",
    "py_rule_based -t \"2011 Haiti Earthquake Anniversary.\" \n",
    "```"
   ]
  },
  {
   "cell_type": "markdown",
   "metadata": {},
   "source": [
    "** All the Parameters **"
   ]
  },
  {
   "cell_type": "markdown",
   "metadata": {},
   "source": [
    "```\n",
    "py_rule_based -t \"2011 Haiti Earthquake Anniversary.\" -dg \"year\" -bd \"2000\" -ed \"2015\"\n",
    "```"
   ]
  },
  {
   "cell_type": "markdown",
   "metadata": {},
   "source": [
    "** More Information **"
   ]
  },
  {
   "cell_type": "markdown",
   "metadata": {},
   "source": [
    "More information on how executing py_rule_based through the command line can be found [here](https://github.com/JMendes1995/py_rule_based/#Python_Cli)"
   ]
  },
  {
   "cell_type": "markdown",
   "metadata": {},
   "source": [
    "## Related Projects"
   ]
  },
  {
   "cell_type": "markdown",
   "metadata": {},
   "source": [
    "Please check [py_heideltime](https://github.com/JMendes1995/py_heideltime) if you are interested in extracting temporal expressions using Heideltime Temporal Tagger."
   ]
  },
  {
   "cell_type": "markdown",
   "metadata": {},
   "source": [
    "Please check [Time-Matters](https://github.com/LIAAD/Time-Matters) if you are interested in detecting the relevance (score) of dates in a text."
   ]
  }
 ],
 "metadata": {
  "kernelspec": {
   "display_name": "Python 3",
   "language": "python",
   "name": "python3"
  },
  "language_info": {
   "codemirror_mode": {
    "name": "ipython",
    "version": 3
   },
   "file_extension": ".py",
   "mimetype": "text/x-python",
   "name": "python",
   "nbconvert_exporter": "python",
   "pygments_lexer": "ipython3",
   "version": "3.6.5"
  },
  "toc": {
   "base_numbering": 1,
   "nav_menu": {},
   "number_sections": true,
   "sideBar": true,
   "skip_h1_title": true,
   "title_cell": "Table of Contents",
   "title_sidebar": "Contents",
   "toc_cell": true,
   "toc_position": {
    "height": "calc(100% - 180px)",
    "left": "10px",
    "top": "150px",
    "width": "261px"
   },
   "toc_section_display": true,
   "toc_window_display": true
  }
 },
 "nbformat": 4,
 "nbformat_minor": 2
}
